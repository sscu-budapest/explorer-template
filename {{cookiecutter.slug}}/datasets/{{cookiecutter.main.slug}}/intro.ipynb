{
 "cells": [
  {
   "cell_type": "markdown",
   "id": "greater-sweden",
   "metadata": {},
   "source": [
    "# Check Head"
   ]
  },
  {
   "cell_type": "code",
   "execution_count": 1,
   "id": "weighted-boost",
   "metadata": {},
   "outputs": [],
   "source": [
    "import pandas as pd"
   ]
  },
  {% for table in cookiecutter.main.tables %}
  {
   "cell_type": "code",
   "execution_count": null,
   "id": "liberal-{{table.slug}}",
   "metadata": {},
   "outputs": [],
   "source": [
    "df_{{table.slug}} = pd.read_csv(\"{{table.csv_filename}}\")"
   ]
  },
  {
   "cell_type": "code",
   "execution_count": null,
   "id": "neither-{{table.slug}}",
   "metadata": {},
   "outputs": [],
   "source": [
    "df_{{table.slug}}.head().T"
   ]
  },
{% endfor %}
  {
    "cell_type": "code",
    "execution_count": null,
    "id": "greater-thingy",
    "metadata": {},
    "outputs": [],
    "source": []
   }
 ],
 "metadata": {
  "kernelspec": {
   "display_name": "Python 3",
   "language": "python",
   "name": "python3"
  },
  "language_info": {
   "codemirror_mode": {
    "name": "ipython",
    "version": 3
   },
   "file_extension": ".py",
   "mimetype": "text/x-python",
   "name": "python",
   "nbconvert_exporter": "python",
   "pygments_lexer": "ipython3",
   "version": "3.8.10"
  }
 },
 "nbformat": 4,
 "nbformat_minor": 5
}
